{
 "cells": [
  {
   "cell_type": "code",
   "execution_count": 1,
   "metadata": {},
   "source": [
    "from datetime import datetime as dt\n",
    "\n",
    "from src.shared import Guild, Channel, ChannelType, Message, User, login_utils\n",
    "from src.server import db, asset_generator"
   ],
   "outputs": []
  },
  {
   "cell_type": "code",
   "execution_count": 2,
   "metadata": {},
   "source": [
    "# dangerous!!!\n",
    "for collection in db.db.list_collection_names():\n",
    "    db.db.drop_collection(collection)"
   ],
   "outputs": []
  },
  {
   "cell_type": "code",
   "execution_count": 3,
   "metadata": {},
   "source": [
    "db.create_indexes()"
   ],
   "outputs": []
  },
  {
   "cell_type": "code",
   "execution_count": 4,
   "metadata": {},
   "source": [
    "u = asset_generator.generate_user(\"test\", login_utils.hash_password(\"Pass1234\"), \"#ffffff\")"
   ],
   "outputs": []
  },
  {
   "cell_type": "code",
   "execution_count": 5,
   "metadata": {},
   "source": [
    "guilds = [asset_generator.generate_guild(f\"Test guild {i}\", u.id) for i in range(5)]\n"
   ],
   "outputs": []
  },
  {
   "cell_type": "code",
   "execution_count": 6,
   "metadata": {},
   "source": [
    "u2 = asset_generator.generate_user(\"amogus\", login_utils.hash_password(\"Amogus123\"), \"#04da6f\")"
   ],
   "outputs": []
  },
  {
   "cell_type": "code",
   "execution_count": 7,
   "metadata": {},
   "source": [
    "for guild in guilds:\n",
    "    db.user_join_guild(u2.id, guild.id)"
   ],
   "outputs": []
  },
  {
   "cell_type": "code",
   "execution_count": 8,
   "metadata": {},
   "source": [
    "for guild in guilds:\n",
    "    for i in range(5):\n",
    "        asset_generator.generate_channel(f\"test-channel-{i}\", ChannelType.TEXT, guild.id)"
   ],
   "outputs": []
  },
  {
   "cell_type": "code",
   "execution_count": 9,
   "metadata": {},
   "source": [
    "for channel_db in db.channels.find():\n",
    "    channel: Channel = Channel.from_db_dict(channel_db)\n",
    "    buffer: list[dict] = []\n",
    "    for i in range(150):\n",
    "        id = asset_generator.get_id()\n",
    "        d = Message(id, channel.id, f\"test message {i} in channel {channel.name} in guild {channel.guild_id}\", attachment=None, author=u, timestamp=id >> asset_generator.TAG_LENGTH).to_db_dict()\n",
    "        d[\"author_id\"] = u.id\n",
    "        del d[\"author\"]\n",
    "        d[\"attachment_id\"] = None\n",
    "        del d[\"attachment\"]\n",
    "        buffer.insert(0, d)\n",
    "    db.messages.insert_many(buffer)\n"
   ],
   "outputs": []
  },
  {
   "cell_type": "code",
   "execution_count": 10,
   "metadata": {},
   "source": [
    "# Generating a test image\n",
    "\n",
    "from src.shared.attachment import AttachmentType\n",
    "\n",
    "\n",
    "with open(\"./assets/sus.png\", \"rb\") as f:\n",
    "    file = f.read()\n",
    "a = asset_generator.generate_attachment(file, AttachmentType.IMAGE, \"sus.png\")\n",
    "\n",
    "# Adding to a channel\n",
    "channel = db.channels.find_one()\n",
    "assert channel is not None\n",
    "channel: Channel = Channel.from_db_dict(channel)\n",
    "\n",
    "m = asset_generator.generate_message(channel.id, \"test message with image\", u, a)\n",
    "\n"
   ],
   "outputs": []
  },
  {
   "cell_type": "code",
   "execution_count": 11,
   "metadata": {},
   "source": [
    "db.get_messages(channel.id, 0, 10)"
   ],
   "outputs": []
  }
 ],
 "metadata": {
  "kernelspec": {
   "display_name": "Python 3",
   "language": "python",
   "name": "python3"
  },
  "language_info": {
   "codemirror_mode": {
    "name": "ipython",
    "version": 3
   },
   "file_extension": ".py",
   "mimetype": "text/x-python",
   "name": "python",
   "nbconvert_exporter": "python",
   "pygments_lexer": "ipython3",
   "version": "3.12.1"
  }
 },
 "nbformat": 4,
 "nbformat_minor": 2
}
