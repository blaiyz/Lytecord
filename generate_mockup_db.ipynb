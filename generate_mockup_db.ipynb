{
 "cells": [
  {
   "cell_type": "code",
   "execution_count": 1,
   "metadata": {},
   "outputs": [],
   "source": [
    "from pymongo import MongoClient\n",
    "from datetime import datetime as dt\n",
    "\n",
    "from src.shared import Guild, Channel, ChannelType, Message, User\n",
    "from src.server import db, asset_generator"
   ]
  },
  {
   "cell_type": "code",
   "execution_count": 2,
   "metadata": {},
   "outputs": [],
   "source": [
    "# dangerous!!!\n",
    "db.guilds.drop()\n",
    "db.channels.drop()\n",
    "db.messages.drop()\n",
    "db.users.drop()"
   ]
  },
  {
   "cell_type": "code",
   "execution_count": 3,
   "metadata": {},
   "outputs": [],
   "source": [
    "u = asset_generator.generate_user(\"Test User\")"
   ]
  },
  {
   "cell_type": "code",
   "execution_count": 4,
   "metadata": {},
   "outputs": [],
   "source": [
    "guilds = [asset_generator.generate_guild(f\"Test guild {i}\", u.id) for i in range(5)]"
   ]
  },
  {
   "cell_type": "code",
   "execution_count": 5,
   "metadata": {},
   "outputs": [],
   "source": [
    "for guild in guilds:\n",
    "    for i in range(5):\n",
    "        asset_generator.generate_channel(f\"test channel {i}\", ChannelType.TEXT, guild.id)"
   ]
  },
  {
   "cell_type": "code",
   "execution_count": 6,
   "metadata": {},
   "outputs": [
    {
     "data": {
      "text/plain": [
       "'channel_id_1'"
      ]
     },
     "execution_count": 6,
     "metadata": {},
     "output_type": "execute_result"
    }
   ],
   "source": [
    "for channel_db in db.channels.find():\n",
    "    channel: Channel = Channel.from_db_dict(channel_db)\n",
    "    buffer: list[dict] = []\n",
    "    for i in range(150):\n",
    "        id = asset_generator.get_id()\n",
    "        buffer.insert(0, Message(id, channel.id, f\"test message {i} in channel {channel.name} in guild {channel.guild_id}\", attachment_id=0, author=u, timestamp=id >> asset_generator.TAG_LENGTH).to_db_dict())\n",
    "    db.messages.insert_many(buffer)\n",
    "db.messages.create_index(\"channel_id\")"
   ]
  },
  {
   "cell_type": "code",
   "execution_count": 7,
   "metadata": {},
   "outputs": [
    {
     "data": {
      "text/plain": [
       "[Message(id=7190392915103428, channel_id=7190392910905374, content='test message 149 in channel test channel 4 in guild 7190392910905349', attachment_id=0, author=User(id=7190392910905344, username='Test User'), timestamp=1714323262),\n",
       " Message(id=7190392915103427, channel_id=7190392910905374, content='test message 148 in channel test channel 4 in guild 7190392910905349', attachment_id=0, author=User(id=7190392910905344, username='Test User'), timestamp=1714323262),\n",
       " Message(id=7190392915103426, channel_id=7190392910905374, content='test message 147 in channel test channel 4 in guild 7190392910905349', attachment_id=0, author=User(id=7190392910905344, username='Test User'), timestamp=1714323262),\n",
       " Message(id=7190392915103425, channel_id=7190392910905374, content='test message 146 in channel test channel 4 in guild 7190392910905349', attachment_id=0, author=User(id=7190392910905344, username='Test User'), timestamp=1714323262),\n",
       " Message(id=7190392915103424, channel_id=7190392910905374, content='test message 145 in channel test channel 4 in guild 7190392910905349', attachment_id=0, author=User(id=7190392910905344, username='Test User'), timestamp=1714323262),\n",
       " Message(id=7190392915103423, channel_id=7190392910905374, content='test message 144 in channel test channel 4 in guild 7190392910905349', attachment_id=0, author=User(id=7190392910905344, username='Test User'), timestamp=1714323262),\n",
       " Message(id=7190392915103422, channel_id=7190392910905374, content='test message 143 in channel test channel 4 in guild 7190392910905349', attachment_id=0, author=User(id=7190392910905344, username='Test User'), timestamp=1714323262),\n",
       " Message(id=7190392915103421, channel_id=7190392910905374, content='test message 142 in channel test channel 4 in guild 7190392910905349', attachment_id=0, author=User(id=7190392910905344, username='Test User'), timestamp=1714323262),\n",
       " Message(id=7190392915103420, channel_id=7190392910905374, content='test message 141 in channel test channel 4 in guild 7190392910905349', attachment_id=0, author=User(id=7190392910905344, username='Test User'), timestamp=1714323262),\n",
       " Message(id=7190392915103419, channel_id=7190392910905374, content='test message 140 in channel test channel 4 in guild 7190392910905349', attachment_id=0, author=User(id=7190392910905344, username='Test User'), timestamp=1714323262)]"
      ]
     },
     "execution_count": 7,
     "metadata": {},
     "output_type": "execute_result"
    }
   ],
   "source": [
    "db.get_messages(channel.id, 0, 10)"
   ]
  }
 ],
 "metadata": {
  "kernelspec": {
   "display_name": "Python 3",
   "language": "python",
   "name": "python3"
  },
  "language_info": {
   "codemirror_mode": {
    "name": "ipython",
    "version": 3
   },
   "file_extension": ".py",
   "mimetype": "text/x-python",
   "name": "python",
   "nbconvert_exporter": "python",
   "pygments_lexer": "ipython3",
   "version": "3.12.1"
  }
 },
 "nbformat": 4,
 "nbformat_minor": 2
}
