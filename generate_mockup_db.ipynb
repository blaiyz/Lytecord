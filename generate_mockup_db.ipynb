{
 "cells": [
  {
   "cell_type": "code",
   "execution_count": 2,
   "metadata": {},
   "outputs": [],
   "source": [
    "from pymongo import MongoClient\n",
    "from datetime import datetime as dt\n",
    "\n",
    "from src.shared import Guild, Channel, ChannelType, Message, User, login_utils\n",
    "from src.server import db, asset_generator"
   ]
  },
  {
   "cell_type": "code",
   "execution_count": 2,
   "metadata": {},
   "outputs": [],
   "source": [
    "# dangerous!!!\n",
    "db.guilds.drop()\n",
    "db.channels.drop()\n",
    "db.messages.drop()\n",
    "db.users.drop()\n",
    "db.passwords.drop()"
   ]
  },
  {
   "cell_type": "code",
   "execution_count": 3,
   "metadata": {},
   "outputs": [
    {
     "data": {
      "text/plain": [
       "'guild_id_1'"
      ]
     },
     "execution_count": 3,
     "metadata": {},
     "output_type": "execute_result"
    }
   ],
   "source": [
    "db.messages.create_index(\"channel_id\")\n",
    "db.users.create_index(\"username\", unique=True)\n",
    "db.channels.create_index(\"guild_id\")"
   ]
  },
  {
   "cell_type": "code",
   "execution_count": 3,
   "metadata": {},
   "outputs": [],
   "source": [
    "u = asset_generator.generate_user(\"Test_User\", login_utils.hash_password(\"Password123\"))"
   ]
  },
  {
   "cell_type": "code",
   "execution_count": 5,
   "metadata": {},
   "outputs": [],
   "source": [
    "guilds = [asset_generator.generate_guild(f\"Test guild {i}\", u.id) for i in range(5)]"
   ]
  },
  {
   "cell_type": "code",
   "execution_count": 6,
   "metadata": {},
   "outputs": [],
   "source": [
    "for guild in guilds:\n",
    "    for i in range(5):\n",
    "        asset_generator.generate_channel(f\"test channel {i}\", ChannelType.TEXT, guild.id)"
   ]
  },
  {
   "cell_type": "code",
   "execution_count": 7,
   "metadata": {},
   "outputs": [],
   "source": [
    "for channel_db in db.channels.find():\n",
    "    channel: Channel = Channel.from_db_dict(channel_db)\n",
    "    buffer: list[dict] = []\n",
    "    for i in range(150):\n",
    "        id = asset_generator.get_id()\n",
    "        buffer.insert(0, Message(id, channel.id, f\"test message {i} in channel {channel.name} in guild {channel.guild_id}\", attachment_id=0, author=u, timestamp=id >> asset_generator.TAG_LENGTH).to_db_dict())\n",
    "    db.messages.insert_many(buffer)\n"
   ]
  },
  {
   "cell_type": "code",
   "execution_count": 8,
   "metadata": {},
   "outputs": [
    {
     "data": {
      "text/plain": [
       "[Message(id=7190675527306948, channel_id=7190675527303198, content='test message 149 in channel test channel 4 in guild 7190675527303173', attachment_id=0, author=User(id=7190675527303168, username='Test_User'), timestamp=1714390642),\n",
       " Message(id=7190675527306947, channel_id=7190675527303198, content='test message 148 in channel test channel 4 in guild 7190675527303173', attachment_id=0, author=User(id=7190675527303168, username='Test_User'), timestamp=1714390642),\n",
       " Message(id=7190675527306946, channel_id=7190675527303198, content='test message 147 in channel test channel 4 in guild 7190675527303173', attachment_id=0, author=User(id=7190675527303168, username='Test_User'), timestamp=1714390642),\n",
       " Message(id=7190675527306945, channel_id=7190675527303198, content='test message 146 in channel test channel 4 in guild 7190675527303173', attachment_id=0, author=User(id=7190675527303168, username='Test_User'), timestamp=1714390642),\n",
       " Message(id=7190675527306944, channel_id=7190675527303198, content='test message 145 in channel test channel 4 in guild 7190675527303173', attachment_id=0, author=User(id=7190675527303168, username='Test_User'), timestamp=1714390642),\n",
       " Message(id=7190675527306943, channel_id=7190675527303198, content='test message 144 in channel test channel 4 in guild 7190675527303173', attachment_id=0, author=User(id=7190675527303168, username='Test_User'), timestamp=1714390642),\n",
       " Message(id=7190675527306942, channel_id=7190675527303198, content='test message 143 in channel test channel 4 in guild 7190675527303173', attachment_id=0, author=User(id=7190675527303168, username='Test_User'), timestamp=1714390642),\n",
       " Message(id=7190675527306941, channel_id=7190675527303198, content='test message 142 in channel test channel 4 in guild 7190675527303173', attachment_id=0, author=User(id=7190675527303168, username='Test_User'), timestamp=1714390642),\n",
       " Message(id=7190675527306940, channel_id=7190675527303198, content='test message 141 in channel test channel 4 in guild 7190675527303173', attachment_id=0, author=User(id=7190675527303168, username='Test_User'), timestamp=1714390642),\n",
       " Message(id=7190675527306939, channel_id=7190675527303198, content='test message 140 in channel test channel 4 in guild 7190675527303173', attachment_id=0, author=User(id=7190675527303168, username='Test_User'), timestamp=1714390642)]"
      ]
     },
     "execution_count": 8,
     "metadata": {},
     "output_type": "execute_result"
    }
   ],
   "source": [
    "db.get_messages(channel.id, 0, 10)"
   ]
  }
 ],
 "metadata": {
  "kernelspec": {
   "display_name": "Python 3",
   "language": "python",
   "name": "python3"
  },
  "language_info": {
   "codemirror_mode": {
    "name": "ipython",
    "version": 3
   },
   "file_extension": ".py",
   "mimetype": "text/x-python",
   "name": "python",
   "nbconvert_exporter": "python",
   "pygments_lexer": "ipython3",
   "version": "3.12.1"
  }
 },
 "nbformat": 4,
 "nbformat_minor": 2
}
