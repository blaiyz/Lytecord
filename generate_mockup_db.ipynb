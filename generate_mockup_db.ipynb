{
 "cells": [
  {
   "cell_type": "code",
   "execution_count": 1,
   "metadata": {},
   "outputs": [],
   "source": [
    "from datetime import datetime as dt\n",
    "\n",
    "from src.shared import Guild, Channel, ChannelType, Message, User, login_utils\n",
    "from src.server import db, asset_generator"
   ]
  },
  {
   "cell_type": "code",
   "execution_count": 2,
   "metadata": {},
   "outputs": [],
   "source": [
    "# dangerous!!!\n",
    "for collection in db.db.list_collection_names():\n",
    "    db.db.drop_collection(collection)"
   ]
  },
  {
   "cell_type": "code",
   "execution_count": 3,
   "metadata": {},
   "outputs": [
    {
     "data": {
      "text/plain": [
       "'join_code_1'"
      ]
     },
     "execution_count": 3,
     "metadata": {},
     "output_type": "execute_result"
    }
   ],
   "source": [
    "db.messages.create_index(\"channel_id\")\n",
    "db.users.create_index(\"username\", unique=True)\n",
    "db.channels.create_index(\"guild_id\")\n",
    "db.guilds.create_index(\"join_code\", unique=True)"
   ]
  },
  {
   "cell_type": "code",
   "execution_count": 4,
   "metadata": {},
   "outputs": [],
   "source": [
    "u = asset_generator.generate_user(\"test\", login_utils.hash_password(\"Pass1234\"))"
   ]
  },
  {
   "cell_type": "code",
   "execution_count": 5,
   "metadata": {},
   "outputs": [],
   "source": [
    "guilds = [asset_generator.generate_guild(f\"Test guild {i}\", u.id) for i in range(5)]\n"
   ]
  },
  {
   "cell_type": "code",
   "execution_count": 6,
   "metadata": {},
   "outputs": [],
   "source": [
    "u2 = asset_generator.generate_user(\"amogus\", login_utils.hash_password(\"Amogus123\"))"
   ]
  },
  {
   "cell_type": "code",
   "execution_count": 7,
   "metadata": {},
   "outputs": [],
   "source": [
    "for guild in guilds:\n",
    "    db.user_join_guild(u2.id, guild.id)"
   ]
  },
  {
   "cell_type": "code",
   "execution_count": 8,
   "metadata": {},
   "outputs": [],
   "source": [
    "for guild in guilds:\n",
    "    for i in range(5):\n",
    "        asset_generator.generate_channel(f\"test-channel-{i}\", ChannelType.TEXT, guild.id)"
   ]
  },
  {
   "cell_type": "code",
   "execution_count": 9,
   "metadata": {},
   "outputs": [],
   "source": [
    "for channel_db in db.channels.find():\n",
    "    channel: Channel = Channel.from_db_dict(channel_db)\n",
    "    buffer: list[dict] = []\n",
    "    for i in range(150):\n",
    "        id = asset_generator.get_id()\n",
    "        d = Message(id, channel.id, f\"test message {i} in channel {channel.name} in guild {channel.guild_id}\", attachment=None, author=u, timestamp=id >> asset_generator.TAG_LENGTH).to_db_dict()\n",
    "        d[\"author_id\"] = u.id\n",
    "        del d[\"author\"]\n",
    "        d[\"attachment_id\"] = None\n",
    "        del d[\"attachment\"]\n",
    "        buffer.insert(0, d)\n",
    "    db.messages.insert_many(buffer)\n"
   ]
  },
  {
   "cell_type": "code",
   "execution_count": 10,
   "metadata": {},
   "outputs": [],
   "source": [
    "# Generating a test image\n",
    "\n",
    "from src.shared.attachment import AttachmentType\n",
    "\n",
    "\n",
    "with open(\"./assets/sus.png\", \"rb\") as f:\n",
    "    file = f.read()\n",
    "a = asset_generator.generate_attachment(file, AttachmentType.IMAGE, \"sus.png\")\n",
    "\n",
    "# Adding to a channel\n",
    "channel = db.channels.find_one()\n",
    "assert channel is not None\n",
    "channel: Channel = Channel.from_db_dict(channel)\n",
    "\n",
    "m = asset_generator.generate_message(channel.id, \"test message with image\", u, a)\n",
    "\n"
   ]
  },
  {
   "cell_type": "code",
   "execution_count": 11,
   "metadata": {},
   "outputs": [
    {
     "data": {
      "text/plain": [
       "[Message(id=112389884743367, channel_id=112389884739591, content='test message with image', attachment=Attachment(id=112389884743366, filename='sus.png', a_type=<AttachmentType.IMAGE: 'image'>, width=842, height=1024, size=21624), author=User(id=112389884674048, username='test'), timestamp=1714933544),\n",
       " Message(id=112389884739765, channel_id=112389884739591, content='test message 149 in channel test-channel-0 in guild 112389884674049', attachment=None, author=User(id=112389884674048, username='test'), timestamp=1714933544),\n",
       " Message(id=112389884739764, channel_id=112389884739591, content='test message 148 in channel test-channel-0 in guild 112389884674049', attachment=None, author=User(id=112389884674048, username='test'), timestamp=1714933544),\n",
       " Message(id=112389884739763, channel_id=112389884739591, content='test message 147 in channel test-channel-0 in guild 112389884674049', attachment=None, author=User(id=112389884674048, username='test'), timestamp=1714933544),\n",
       " Message(id=112389884739762, channel_id=112389884739591, content='test message 146 in channel test-channel-0 in guild 112389884674049', attachment=None, author=User(id=112389884674048, username='test'), timestamp=1714933544),\n",
       " Message(id=112389884739761, channel_id=112389884739591, content='test message 145 in channel test-channel-0 in guild 112389884674049', attachment=None, author=User(id=112389884674048, username='test'), timestamp=1714933544),\n",
       " Message(id=112389884739760, channel_id=112389884739591, content='test message 144 in channel test-channel-0 in guild 112389884674049', attachment=None, author=User(id=112389884674048, username='test'), timestamp=1714933544),\n",
       " Message(id=112389884739759, channel_id=112389884739591, content='test message 143 in channel test-channel-0 in guild 112389884674049', attachment=None, author=User(id=112389884674048, username='test'), timestamp=1714933544),\n",
       " Message(id=112389884739758, channel_id=112389884739591, content='test message 142 in channel test-channel-0 in guild 112389884674049', attachment=None, author=User(id=112389884674048, username='test'), timestamp=1714933544),\n",
       " Message(id=112389884739757, channel_id=112389884739591, content='test message 141 in channel test-channel-0 in guild 112389884674049', attachment=None, author=User(id=112389884674048, username='test'), timestamp=1714933544)]"
      ]
     },
     "execution_count": 11,
     "metadata": {},
     "output_type": "execute_result"
    }
   ],
   "source": [
    "db.get_messages(channel.id, 0, 10)"
   ]
  }
 ],
 "metadata": {
  "kernelspec": {
   "display_name": "Python 3",
   "language": "python",
   "name": "python3"
  },
  "language_info": {
   "codemirror_mode": {
    "name": "ipython",
    "version": 3
   },
   "file_extension": ".py",
   "mimetype": "text/x-python",
   "name": "python",
   "nbconvert_exporter": "python",
   "pygments_lexer": "ipython3",
   "version": "3.12.1"
  }
 },
 "nbformat": 4,
 "nbformat_minor": 2
}
