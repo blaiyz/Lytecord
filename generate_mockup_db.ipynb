{
 "cells": [
  {
   "cell_type": "code",
   "execution_count": 15,
   "metadata": {},
   "outputs": [],
   "source": [
    "from pymongo import MongoClient\n",
    "from datetime import datetime as dt\n",
    "\n",
    "from src.shared import *"
   ]
  },
  {
   "cell_type": "code",
   "execution_count": 16,
   "metadata": {},
   "outputs": [],
   "source": [
    "db_client = MongoClient(\"mongodb://localhost:27017/\")\n",
    "db = db_client[\"Lytecord\"]\n",
    "guilds = db[\"guilds\"]\n",
    "channels = db[\"channels\"]\n",
    "messages = db[\"messages\"]"
   ]
  },
  {
   "cell_type": "code",
   "execution_count": 17,
   "metadata": {},
   "outputs": [],
   "source": [
    "guilds.drop()\n",
    "channels.drop()\n",
    "messages.drop()"
   ]
  },
  {
   "cell_type": "code",
   "execution_count": 18,
   "metadata": {},
   "outputs": [],
   "source": [
    "index = 0\n",
    "MAX = 2 ** 22"
   ]
  },
  {
   "cell_type": "code",
   "execution_count": 19,
   "metadata": {},
   "outputs": [],
   "source": [
    "for i in range(5):\n",
    "    t = int(dt.now().timestamp())\n",
    "    guilds.insert_one(Guild((t << 22) + index, f\"Test Guild {i}\").to_db_dict())\n",
    "    index += 1\n",
    "    index %= MAX"
   ]
  },
  {
   "cell_type": "code",
   "execution_count": 20,
   "metadata": {},
   "outputs": [
    {
     "data": {
      "text/plain": [
       "'guild_id_1'"
      ]
     },
     "execution_count": 20,
     "metadata": {},
     "output_type": "execute_result"
    }
   ],
   "source": [
    "for guild_db in guilds.find():\n",
    "    guild: Guild = Guild.from_db_dict(guild_db)\n",
    "    for i in range(5):\n",
    "        t = int(dt.now().timestamp())\n",
    "        channels.insert_one(Channel((t << 22) + index, f\"test channel {i}\", ChannelType.TEXT, guild.id).to_db_dict())\n",
    "        index += 1\n",
    "        index %= MAX\n",
    "channels.create_index(\"guild_id\")"
   ]
  },
  {
   "cell_type": "code",
   "execution_count": 21,
   "metadata": {},
   "outputs": [
    {
     "data": {
      "text/plain": [
       "'channel_id_1'"
      ]
     },
     "execution_count": 21,
     "metadata": {},
     "output_type": "execute_result"
    }
   ],
   "source": [
    "for channel_db in channels.find():\n",
    "    channel: Channel = Channel.from_db_dict(channel_db)\n",
    "    buffer: list[dict] = []\n",
    "    for i in range(150):\n",
    "        t = int(dt.now().timestamp())\n",
    "        buffer.insert(0, Message((t << 22) + index, channel.id, f\"test message {i} in channel {channel.name} in guild {channel.guild_id}\", attachment_id=0, author_id=1, timestamp=t).to_db_dict())\n",
    "        index += 1\n",
    "        index %= MAX\n",
    "    messages.insert_many(buffer)\n",
    "messages.create_index(\"channel_id\")"
   ]
  },
  {
   "cell_type": "code",
   "execution_count": 23,
   "metadata": {},
   "outputs": [
    {
     "data": {
      "text/plain": [
       "[Message(id=7190341555847347, channel_id=7190341555847173, content='test message 149 in channel test channel 0 in guild 7190341555847168', attachment_id=0, author_id=1, timestamp=1714311017),\n",
       " Message(id=7190341555847346, channel_id=7190341555847173, content='test message 148 in channel test channel 0 in guild 7190341555847168', attachment_id=0, author_id=1, timestamp=1714311017),\n",
       " Message(id=7190341555847345, channel_id=7190341555847173, content='test message 147 in channel test channel 0 in guild 7190341555847168', attachment_id=0, author_id=1, timestamp=1714311017),\n",
       " Message(id=7190341555847344, channel_id=7190341555847173, content='test message 146 in channel test channel 0 in guild 7190341555847168', attachment_id=0, author_id=1, timestamp=1714311017),\n",
       " Message(id=7190341555847343, channel_id=7190341555847173, content='test message 145 in channel test channel 0 in guild 7190341555847168', attachment_id=0, author_id=1, timestamp=1714311017),\n",
       " Message(id=7190341555847342, channel_id=7190341555847173, content='test message 144 in channel test channel 0 in guild 7190341555847168', attachment_id=0, author_id=1, timestamp=1714311017),\n",
       " Message(id=7190341555847341, channel_id=7190341555847173, content='test message 143 in channel test channel 0 in guild 7190341555847168', attachment_id=0, author_id=1, timestamp=1714311017),\n",
       " Message(id=7190341555847340, channel_id=7190341555847173, content='test message 142 in channel test channel 0 in guild 7190341555847168', attachment_id=0, author_id=1, timestamp=1714311017),\n",
       " Message(id=7190341555847339, channel_id=7190341555847173, content='test message 141 in channel test channel 0 in guild 7190341555847168', attachment_id=0, author_id=1, timestamp=1714311017),\n",
       " Message(id=7190341555847338, channel_id=7190341555847173, content='test message 140 in channel test channel 0 in guild 7190341555847168', attachment_id=0, author_id=1, timestamp=1714311017)]"
      ]
     },
     "execution_count": 23,
     "metadata": {},
     "output_type": "execute_result"
    }
   ],
   "source": [
    "res = messages.find({\"channel_id\": 7190307204501188}).sort(\"_id\", -1).limit(10)\n",
    "[Message.from_db_dict(m) for m in res]"
   ]
  }
 ],
 "metadata": {
  "kernelspec": {
   "display_name": "Python 3",
   "language": "python",
   "name": "python3"
  },
  "language_info": {
   "codemirror_mode": {
    "name": "ipython",
    "version": 3
   },
   "file_extension": ".py",
   "mimetype": "text/x-python",
   "name": "python",
   "nbconvert_exporter": "python",
   "pygments_lexer": "ipython3",
   "version": "3.12.1"
  }
 },
 "nbformat": 4,
 "nbformat_minor": 2
}
